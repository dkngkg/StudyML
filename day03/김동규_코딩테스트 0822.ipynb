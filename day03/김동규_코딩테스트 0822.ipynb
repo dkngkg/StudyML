{
 "cells": [
  {
   "cell_type": "markdown",
   "metadata": {},
   "source": [
    "### 1번 문제\n",
    "1. 반지름 값을 입력받아 원의 넓이를 구하여 출력하는 프로그램을 구현하세요. π는 3.141592 입니다. 모듈을 사용하여도 됩니다~!!"
   ]
  },
  {
   "cell_type": "code",
   "execution_count": 8,
   "metadata": {},
   "outputs": [
    {
     "ename": "ValueError",
     "evalue": "could not convert string to float: ''",
     "output_type": "error",
     "traceback": [
      "\u001b[1;31m---------------------------------------------------------------------------\u001b[0m",
      "\u001b[1;31mValueError\u001b[0m                                Traceback (most recent call last)",
      "\u001b[1;32mc:\\Users\\admin\\Desktop\\0822_codingTest.ipynb 셀 3\u001b[0m in \u001b[0;36m<cell line: 1>\u001b[1;34m()\u001b[0m\n\u001b[1;32m----> <a href='vscode-notebook-cell:/c%3A/Users/admin/Desktop/0822_codingTest.ipynb#X15sZmlsZQ%3D%3D?line=0'>1</a>\u001b[0m r \u001b[39m=\u001b[39m \u001b[39mfloat\u001b[39;49m(\u001b[39minput\u001b[39;49m(\u001b[39m\"\u001b[39;49m\u001b[39m반지름을 입력해주세요. \u001b[39;49m\u001b[39m\\n\u001b[39;49;00m\u001b[39m\"\u001b[39;49m))\n\u001b[0;32m      <a href='vscode-notebook-cell:/c%3A/Users/admin/Desktop/0822_codingTest.ipynb#X15sZmlsZQ%3D%3D?line=1'>2</a>\u001b[0m \u001b[39mprint\u001b[39m(\u001b[39mf\u001b[39m\u001b[39m\"\u001b[39m\u001b[39m원의 넓이 : \u001b[39m\u001b[39m{\u001b[39;00mr\u001b[39m*\u001b[39mr\u001b[39m*\u001b[39m\u001b[39m3.141592\u001b[39m\u001b[39m}\u001b[39;00m\u001b[39m\"\u001b[39m)\n",
      "\u001b[1;31mValueError\u001b[0m: could not convert string to float: ''"
     ]
    }
   ],
   "source": [
    "r = float(input(\"반지름을 입력해주세요. \\n\"))\n",
    "print(f\"원의 넓이 : {r*r*3.141592}\")\n",
    "\n",
    "# 출처 :https://blog.naver.com/PostView.naver?blogId=appletreegood123&logNo=221626848377&parentCategoryNo=&categoryNo=11&viewDate=&isShowPopularPosts=true&from=search"
   ]
  },
  {
   "cell_type": "markdown",
   "metadata": {},
   "source": [
    "### 2번 문제\n",
    "2. 태양계는 수성, 금성, 지구, 화성, 목성, 토성, 천왕성, 혜왕성으로 구성됩니다. 영어 이름은 Mercury, Venus, Earth, Mars, Jupiter,  Saturn, Uranus, Neptune 입니다.  행성의 영어 이름을 입력하면 한글 행성 이름이 출력 되는 프로그램을 구현하세요."
   ]
  },
  {
   "cell_type": "code",
   "execution_count": null,
   "metadata": {},
   "outputs": [],
   "source": [
    "# dictionary 자료 구조 \n",
    "user_input = input(\"행성을 입력하세요:\")\n",
    "solar = {\"수성\" : 'Mercury', \"금성\" : 'Venus' ,\"지구\": 'Earth', \"화성\" : 'Mars' ,\"목성\" : 'Jupiter' ,\"토성\" : 'Saturn' ,\"천왕성\" : 'Uranus' ,\"혜왕성\" : 'Neptune'}\n",
    "print(solar[user_input])\n",
    "\n",
    "# 출처:https://velog.io/@hayeon/%EC%A0%9C%EC%A3%BC%EC%BD%94%EB%94%A9%EB%B2%A0%EC%9D%B4%EC%8A%A4%EC%BA%A0%ED%94%84-Python-2136%EC%A0%9C"
   ]
  },
  {
   "cell_type": "markdown",
   "metadata": {},
   "source": [
    "### 3번 문제\n",
    "3. 입력한 영어 문자열의 단어의 수를 출력하고 입력된 단어를 짝수로 대문자로 변경하여 출력하는 프로그램을 구현하세요. 예) I'm going to leave the door open = 7 / \n",
    "I'm GOING to LEAVE the DOOR open"
   ]
  },
  {
   "cell_type": "code",
   "execution_count": 2,
   "metadata": {},
   "outputs": [
    {
     "ename": "AttributeError",
     "evalue": "'list' object has no attribute 'split'",
     "output_type": "error",
     "traceback": [
      "\u001b[1;31m---------------------------------------------------------------------------\u001b[0m",
      "\u001b[1;31mAttributeError\u001b[0m                            Traceback (most recent call last)",
      "\u001b[1;32mc:\\Users\\admin\\Desktop\\김동규.ipynb 셀 6\u001b[0m in \u001b[0;36m<cell line: 4>\u001b[1;34m()\u001b[0m\n\u001b[0;32m      <a href='vscode-notebook-cell:/c%3A/Users/admin/Desktop/%EA%B9%80%EB%8F%99%EA%B7%9C.ipynb#W5sZmlsZQ%3D%3D?line=0'>1</a>\u001b[0m \u001b[39m# 첫번째 풀이\u001b[39;00m\n\u001b[0;32m      <a href='vscode-notebook-cell:/c%3A/Users/admin/Desktop/%EA%B9%80%EB%8F%99%EA%B7%9C.ipynb#W5sZmlsZQ%3D%3D?line=1'>2</a>\u001b[0m inputs \u001b[39m=\u001b[39m \u001b[39minput\u001b[39m(\u001b[39m\"\u001b[39m\u001b[39m영어 문장을 입력해주세요\u001b[39m\u001b[39m\"\u001b[39m)\u001b[39m.\u001b[39msplit()\n\u001b[1;32m----> <a href='vscode-notebook-cell:/c%3A/Users/admin/Desktop/%EA%B9%80%EB%8F%99%EA%B7%9C.ipynb#W5sZmlsZQ%3D%3D?line=3'>4</a>\u001b[0m temp \u001b[39m=\u001b[39m inputs\u001b[39m.\u001b[39;49msplit()\n\u001b[0;32m      <a href='vscode-notebook-cell:/c%3A/Users/admin/Desktop/%EA%B9%80%EB%8F%99%EA%B7%9C.ipynb#W5sZmlsZQ%3D%3D?line=4'>5</a>\u001b[0m \u001b[39mprint\u001b[39m(\u001b[39mf\u001b[39m\u001b[39m'\u001b[39m\u001b[39m영어 문장 수 > \u001b[39m\u001b[39m{\u001b[39;00m\u001b[39mlen\u001b[39m(temp)\u001b[39m}\u001b[39;00m\u001b[39m'\u001b[39m)\n\u001b[0;32m      <a href='vscode-notebook-cell:/c%3A/Users/admin/Desktop/%EA%B9%80%EB%8F%99%EA%B7%9C.ipynb#W5sZmlsZQ%3D%3D?line=6'>7</a>\u001b[0m i \u001b[39m=\u001b[39m \u001b[39m1\u001b[39m\n",
      "\u001b[1;31mAttributeError\u001b[0m: 'list' object has no attribute 'split'"
     ]
    }
   ],
   "source": [
    "# 첫번째 풀이\n",
    "inputs = input(\"영어 문장을 입력해주세요\").split()\n",
    "\n",
    "temp = inputs.split()\n",
    "print(f'영어 문장 수 = {len(temp)}')\n",
    "\n",
    "i = 1\n",
    "for item in temp:\n",
    "    if (i % 2 == 0): #2로 나눴을 때 나머지 = 0 , 즉 짝수일 때 \n",
    "        print(item.upper(), end=' ')\n",
    "    else:\n",
    "        print(item, end=' ')\n",
    "    \n",
    "    i += 1\n",
    "\n"
   ]
  },
  {
   "cell_type": "markdown",
   "metadata": {},
   "source": [
    "### 4번 \n",
    "\n",
    "4. 입력한 수를 거꾸로 출력하는 프로그램을 구현하세요. 예) 1 3 5 7 9 --> 9 7 5 3 1"
   ]
  },
  {
   "cell_type": "code",
   "execution_count": null,
   "metadata": {},
   "outputs": [
    {
     "name": "stdout",
     "output_type": "stream",
     "text": [
      "name    : 1 3 5 7 9\n",
      "reverse : 9 7 5 3 1\n"
     ]
    }
   ],
   "source": [
    "# for 반복문을 이용해서 문자열 뒤집기\n",
    "name = \"1 3 5 7 9\"\n",
    "reverse_name = ''\n",
    "\n",
    "for a in name:\n",
    "    reverse_name = a + reverse_name\n",
    "\n",
    "print(f'name    : {name}')\n",
    "print(f'reverse : {reverse_name}')\n",
    "# 출처: https://blockdmask.tistory.com/581 [개발자 지망생:티스토리]"
   ]
  },
  {
   "cell_type": "markdown",
   "metadata": {},
   "source": [
    "5번 문제\n",
    "\n",
    "5. 구구단을 수행할 단번호를 입력하면 그 단의 9까지의 결과를 나열하는 프로그램을 입력하세요. 예) 3 --> 3 6 9 12 15 18 21 24 27\n"
   ]
  },
  {
   "cell_type": "code",
   "execution_count": null,
   "metadata": {},
   "outputs": [],
   "source": [
    "if __name__ == \"__main__\": \n",
    "\n",
    "    num = int(input(\"2-9 사이의 단을 입력하세요 : \"))\n",
    "\n",
    "    while (num < 2 or num > 9):\n",
    "\n",
    "        print(\"잘못 입력되었습니다\")\n",
    "        num = int(input(\"2-9 사이의 단을 다시 입력하세요 : \"))\n",
    "\n",
    "    for i in range(1, 10):\n",
    "        print(num, \"*\", i, \"=\", num * i)\n",
    "    print('-'*10)  #한개의 단이 끝나면 구분선\n",
    "\n",
    "    # 출처 : https://didalsgur.tistory.com/entry/Python-%EC%82%AC%EC%9A%A9%EC%9E%90-%EC%88%AB%EC%9E%90-%EC%9E%85%EB%A0%A5-%EA%B5%AC%EA%B5%AC%EB%8B%A8-%EA%B3%84%EC%82%B0-%EA%B2%B0%EA%B3%BC-%EC%B6%9C%EB%A0%A5"
   ]
  },
  {
   "cell_type": "code",
   "execution_count": null,
   "metadata": {},
   "outputs": [
    {
     "name": "stdout",
     "output_type": "stream",
     "text": [
      ":: 2단 ::\n",
      "2 x 1 = 2\n",
      "2 x 2 = 4\n",
      "2 x 3 = 6\n",
      "2 x 4 = 8\n",
      "2 x 5 = 10\n",
      "2 x 6 = 12\n",
      "2 x 7 = 14\n",
      "2 x 8 = 16\n",
      "2 x 9 = 18\n",
      "----------\n",
      ":: 3단 ::\n",
      "3 x 1 = 3\n",
      "3 x 2 = 6\n",
      "3 x 3 = 9\n",
      "3 x 4 = 12\n",
      "3 x 5 = 15\n",
      "3 x 6 = 18\n",
      "3 x 7 = 21\n",
      "3 x 8 = 24\n",
      "3 x 9 = 27\n",
      "----------\n",
      ":: 4단 ::\n",
      "4 x 1 = 4\n",
      "4 x 2 = 8\n",
      "4 x 3 = 12\n",
      "4 x 4 = 16\n",
      "4 x 5 = 20\n",
      "4 x 6 = 24\n",
      "4 x 7 = 28\n",
      "4 x 8 = 32\n",
      "4 x 9 = 36\n",
      "----------\n",
      ":: 5단 ::\n",
      "5 x 1 = 5\n",
      "5 x 2 = 10\n",
      "5 x 3 = 15\n",
      "5 x 4 = 20\n",
      "5 x 5 = 25\n",
      "5 x 6 = 30\n",
      "5 x 7 = 35\n",
      "5 x 8 = 40\n",
      "5 x 9 = 45\n",
      "----------\n",
      ":: 6단 ::\n",
      "6 x 1 = 6\n",
      "6 x 2 = 12\n",
      "6 x 3 = 18\n",
      "6 x 4 = 24\n",
      "6 x 5 = 30\n",
      "6 x 6 = 36\n",
      "6 x 7 = 42\n",
      "6 x 8 = 48\n",
      "6 x 9 = 54\n",
      "----------\n",
      ":: 7단 ::\n",
      "7 x 1 = 7\n",
      "7 x 2 = 14\n",
      "7 x 3 = 21\n",
      "7 x 4 = 28\n",
      "7 x 5 = 35\n",
      "7 x 6 = 42\n",
      "7 x 7 = 49\n",
      "7 x 8 = 56\n",
      "7 x 9 = 63\n",
      "----------\n",
      ":: 8단 ::\n",
      "8 x 1 = 8\n",
      "8 x 2 = 16\n",
      "8 x 3 = 24\n",
      "8 x 4 = 32\n",
      "8 x 5 = 40\n",
      "8 x 6 = 48\n",
      "8 x 7 = 56\n",
      "8 x 8 = 64\n",
      "8 x 9 = 72\n",
      "----------\n",
      ":: 9단 ::\n",
      "9 x 1 = 9\n",
      "9 x 2 = 18\n",
      "9 x 3 = 27\n",
      "9 x 4 = 36\n",
      "9 x 5 = 45\n",
      "9 x 6 = 54\n",
      "9 x 7 = 63\n",
      "9 x 8 = 72\n",
      "9 x 9 = 81\n",
      "----------\n"
     ]
    }
   ],
   "source": [
    "\n",
    "\n",
    "# for dan in range(2, 10):\n",
    "#     print(f':: {dan}단 ::')  # 몇단인지 표시\n",
    "#     for i in range(1, 10):\n",
    "#         print(f'{dan} x {i} = {dan * i}')\n",
    "#     print('-'*10)  #한개의 단이 끝나면 구분선\n",
    "\n",
    "#     # 출처: https://ooyoung.tistory.com/42"
   ]
  },
  {
   "cell_type": "code",
   "execution_count": null,
   "metadata": {},
   "outputs": [],
   "source": [
    "\n"
   ]
  }
 ],
 "metadata": {
  "kernelspec": {
   "display_name": "Python 3.10.5 64-bit",
   "language": "python",
   "name": "python3"
  },
  "language_info": {
   "codemirror_mode": {
    "name": "ipython",
    "version": 3
   },
   "file_extension": ".py",
   "mimetype": "text/x-python",
   "name": "python",
   "nbconvert_exporter": "python",
   "pygments_lexer": "ipython3",
   "version": "3.10.5"
  },
  "orig_nbformat": 4,
  "vscode": {
   "interpreter": {
    "hash": "beedbe2faf2f7048d727558d0bc3221e7eba2a0b921cac4d4771b2feb8f74b30"
   }
  }
 },
 "nbformat": 4,
 "nbformat_minor": 2
}
